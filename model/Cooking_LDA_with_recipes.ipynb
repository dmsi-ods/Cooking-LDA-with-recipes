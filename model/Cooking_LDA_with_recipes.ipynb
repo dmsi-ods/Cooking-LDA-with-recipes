{
 "cells": [
  {
   "cell_type": "markdown",
   "metadata": {},
   "source": [
    "# Cooking LDA with recipes"
   ]
  },
  {
   "cell_type": "markdown",
   "metadata": {},
   "source": [
    "In the thematic modeling, it is assumed that the order of words in the document is not important for determining the subject (“bag of words” hypothesis). We will work with a somewhat non-standard for thematic modeling collection, which can be called the “bag of ingredients”, because it consists of recipes from different cuisines. Thematic models are looking for words that are often found together in documents and make up topics. We will try to apply this idea to recipes and find culinary “themes”. This collection is good because it doesn't require preprocessing. In addition, it illustrates the principle of thematic models quite clearly.\n",
    "\n",
    "##### Warning:\n",
    "Building models takes some time. On Intel Core i5, 2400 MHz, it takes less than 10 minutes to build one model."
   ]
  },
  {
   "cell_type": "markdown",
   "metadata": {},
   "source": [
    "### Data loading "
   ]
  },
  {
   "cell_type": "code",
   "execution_count": 4,
   "metadata": {},
   "outputs": [],
   "source": [
    "import json"
   ]
  },
  {
   "cell_type": "code",
   "execution_count": 6,
   "metadata": {},
   "outputs": [],
   "source": [
    "with open(\"../data/recipes.json\") as f:\n",
    "    recipes = json.load(f)"
   ]
  },
  {
   "cell_type": "code",
   "execution_count": 7,
   "metadata": {},
   "outputs": [
    {
     "data": {
      "text/plain": [
       "{'id': 10259,\n",
       " 'cuisine': 'greek',\n",
       " 'ingredients': ['romaine lettuce',\n",
       "  'black olives',\n",
       "  'grape tomatoes',\n",
       "  'garlic',\n",
       "  'pepper',\n",
       "  'purple onion',\n",
       "  'seasoning',\n",
       "  'garbanzo beans',\n",
       "  'feta cheese crumbles']}"
      ]
     },
     "execution_count": 7,
     "metadata": {},
     "output_type": "execute_result"
    }
   ],
   "source": [
    "recipes[0]"
   ]
  },
  {
   "cell_type": "code",
   "execution_count": 8,
   "metadata": {},
   "outputs": [
    {
     "data": {
      "text/plain": [
       "39774"
      ]
     },
     "execution_count": 8,
     "metadata": {},
     "output_type": "execute_result"
    }
   ],
   "source": [
    "len(recipes)"
   ]
  },
  {
   "cell_type": "markdown",
   "metadata": {},
   "source": [
    "So, we are working with almost 40000 recipes."
   ]
  },
  {
   "cell_type": "markdown",
   "metadata": {},
   "source": [
    "### Corpus building"
   ]
  },
  {
   "cell_type": "code",
   "execution_count": 9,
   "metadata": {},
   "outputs": [],
   "source": [
    "import warnings\n",
    "warnings.simplefilter('ignore')\n",
    "\n",
    "from gensim import corpora, models\n",
    "import numpy as np"
   ]
  },
  {
   "cell_type": "code",
   "execution_count": 10,
   "metadata": {},
   "outputs": [],
   "source": [
    "texts = [recipe[\"ingredients\"] for recipe in recipes]\n",
    "dictionary = corpora.Dictionary(texts)   # compile a dictionary\n",
    "corpus = [dictionary.doc2bow(text) for text in texts]  # prepare the corpus of documents"
   ]
  },
  {
   "cell_type": "code",
   "execution_count": 11,
   "metadata": {},
   "outputs": [
    {
     "data": {
      "text/plain": [
       "[(0, 1),\n",
       " (3, 1),\n",
       " (5, 1),\n",
       " (59, 1),\n",
       " (80, 1),\n",
       " (81, 1),\n",
       " (82, 1),\n",
       " (83, 1),\n",
       " (84, 1),\n",
       " (85, 1),\n",
       " (86, 1),\n",
       " (87, 1),\n",
       " (88, 1)]"
      ]
     },
     "execution_count": 11,
     "metadata": {},
     "output_type": "execute_result"
    }
   ],
   "source": [
    "corpus[10] #ingredients for 11-th recipe"
   ]
  },
  {
   "cell_type": "markdown",
   "metadata": {},
   "source": [
    "The element of corpus is a list of pairs in format: (ingredient_id, count_in_the_recipe)."
   ]
  },
  {
   "cell_type": "markdown",
   "metadata": {},
   "source": [
    "### Model learning"
   ]
  },
  {
   "cell_type": "markdown",
   "metadata": {},
   "source": [
    "Let's try the LDA model with 11 topics. You can load model if you don't want to wait learning."
   ]
  },
  {
   "cell_type": "code",
   "execution_count": 12,
   "metadata": {},
   "outputs": [
    {
     "name": "stdout",
     "output_type": "stream",
     "text": [
      "Wall time: 1min 13s\n"
     ]
    }
   ],
   "source": [
    "%time first_lda_model = models.ldamodel.LdaModel(corpus, id2word=dictionary, num_topics=11, passes=5)"
   ]
  },
  {
   "cell_type": "code",
   "execution_count": 52,
   "metadata": {},
   "outputs": [],
   "source": [
    "#first_lda_model.save('prepared lda models/first_lda_model_xkcd')"
   ]
  },
  {
   "cell_type": "code",
   "execution_count": 14,
   "metadata": {},
   "outputs": [],
   "source": [
    "#first_lda_model = models.ldamodel.LdaModel.load('prepared lda models/first_lda_model_xkcd')"
   ]
  },
  {
   "cell_type": "markdown",
   "metadata": {},
   "source": [
    "Quick look at top words of each topic."
   ]
  },
  {
   "cell_type": "code",
   "execution_count": 15,
   "metadata": {},
   "outputs": [
    {
     "name": "stdout",
     "output_type": "stream",
     "text": [
      "0: ['onions', 'garlic', 'olive oil', 'salt', 'ground black pepper', 'carrots', 'bay leaves', 'water', 'kosher salt', 'green bell pepper', 'diced tomatoes', 'tomato paste', 'garlic cloves', 'celery', 'yellow onion']\n",
      "1: ['olive oil', 'salt', 'garlic', 'grated parmesan cheese', 'pepper', 'onions', 'ground black pepper', 'dried oregano', 'fresh basil', 'tomatoes', 'dried basil', 'fresh parsley', 'mozzarella cheese', 'parmesan cheese', 'eggs']\n",
      "2: ['salt', 'onions', 'water', 'ground turmeric', 'cumin seed', 'garam masala', 'ground cumin', 'oil', 'ginger', 'tumeric', 'garlic', 'tomatoes', 'ground coriander', 'vegetable oil', 'chili powder']\n",
      "3: ['salt', 'jalapeno chilies', 'chili powder', 'sour cream', 'ground cumin', 'avocado', 'chopped cilantro fresh', 'corn tortillas', 'black beans', 'tomatoes', 'salsa', 'flour tortillas', 'onions', 'olive oil', 'shredded cheddar cheese']\n",
      "4: ['ground white pepper', 'dry bread crumbs', 'Shaoxing wine', 'large eggs', 'lemon zest', 'basil leaves', 'chives', 'fresh orange juice', 'grated nutmeg', 'broccoli florets', 'bread flour', 'dry sherry', 'fine sea salt', 'orange zest', 'fettucine']\n",
      "5: ['salt', 'pepper', 'onions', 'water', 'butter', 'garlic powder', 'flour', 'vegetable oil', 'paprika', 'worcestershire sauce', 'mayonaise', 'ground black pepper', 'cayenne pepper', 'black pepper', 'potatoes']\n",
      "6: ['all-purpose flour', 'salt', 'sugar', 'butter', 'milk', 'large eggs', 'unsalted butter', 'eggs', 'baking powder', 'vanilla extract', 'water', 'baking soda', 'white sugar', 'buttermilk', 'whole milk']\n",
      "7: ['garlic cloves', 'olive oil', 'salt', 'extra-virgin olive oil', 'ground black pepper', 'fresh lemon juice', 'dry white wine', 'flat leaf parsley', 'cooking spray', 'chopped onion', 'black pepper', 'shallots', 'kosher salt', 'butter', 'water']\n",
      "8: ['soy sauce', 'garlic', 'sesame oil', 'sugar', 'green onions', 'scallions', 'corn starch', 'water', 'salt', 'rice vinegar', 'vegetable oil', 'ginger', 'carrots', 'fresh ginger', 'garlic cloves']\n",
      "9: ['sugar', 'mirin', 'water', 'chopped pecans', 'unsweetened cocoa powder', 'baguette', 'beef', 'vanilla', 'fresh mint', 'napa cabbage', 'bourbon whiskey', 'english cucumber', 'asian fish sauce', 'orange', 'orange juice']\n",
      "10: ['fish sauce', 'fresh lime juice', 'vegetable oil', 'lime', 'sugar', 'garlic cloves', 'shallots', 'lime juice', 'coconut milk', 'cilantro leaves', 'water', 'chopped cilantro fresh', 'scallions', 'kosher salt', 'cucumber']\n",
      "\n"
     ]
    }
   ],
   "source": [
    "topics = first_lda_model.show_topics(num_topics=11, num_words=15, formatted=False)\n",
    "topics_words = [(tp[0], [wd[0] for wd in tp[1]]) for tp in topics]\n",
    "\n",
    "for topic, words in topics_words:\n",
    "    print(str(topic) + \": \" + str(words))\n",
    "print()"
   ]
  },
  {
   "cell_type": "markdown",
   "metadata": {},
   "source": [
    "How many times can we see \"salt\", \"sugar\", \"water\", \"mushrooms\", \"chicken\", \"eggs\" among tops-15 of all 11 topics?"
   ]
  },
  {
   "cell_type": "code",
   "execution_count": 16,
   "metadata": {},
   "outputs": [],
   "source": [
    "counts = {'salt': 0, 'sugar': 0, 'water': 0, 'mushrooms': 0, 'chicken': 0, 'eggs': 0}\n",
    "for topic in topics_words:\n",
    "    for word in counts.keys():\n",
    "        if word in topic[1]:\n",
    "            counts[word] = counts[word] + 1"
   ]
  },
  {
   "cell_type": "code",
   "execution_count": 17,
   "metadata": {},
   "outputs": [
    {
     "data": {
      "text/plain": [
       "{'salt': 8, 'sugar': 4, 'water': 8, 'mushrooms': 0, 'chicken': 0, 'eggs': 2}"
      ]
     },
     "execution_count": 17,
     "metadata": {},
     "output_type": "execute_result"
    }
   ],
   "source": [
    "counts"
   ]
  },
  {
   "cell_type": "markdown",
   "metadata": {},
   "source": [
    "### Dictionary filtering\n",
    "In the tops, the first three ingredients are much more common than the last three. At the same time, the presence of chicken, eggs or mushrooms in the recipe gives much more information about the dish than the presence of salt, sugar or water. Thus, even in recipes there are words that don't carry a semantic load, and therefore it isn't desirable to see them in topics. The easiest way to deal with such background elements is to filter the dictionary by frequency. Usually, the dictionary is filtered from two sides: very rare words are removed (in order to save memory) and very frequent words (in order to increase the interpretability of topics). We will remove only frequent words."
   ]
  },
  {
   "cell_type": "code",
   "execution_count": 18,
   "metadata": {},
   "outputs": [],
   "source": [
    "import copy\n",
    "dictionary_filtered = copy.deepcopy(dictionary)"
   ]
  },
  {
   "cell_type": "markdown",
   "metadata": {},
   "source": [
    "Let's remove ingredients that appear in our cuisine collection more than 4000 times and look at size changes of dictionary and corpus."
   ]
  },
  {
   "cell_type": "code",
   "execution_count": 19,
   "metadata": {},
   "outputs": [],
   "source": [
    "dict_size_before = len(dictionary_filtered)\n",
    "corpus_size_before = sum([len(recipe) for recipe in corpus])"
   ]
  },
  {
   "cell_type": "code",
   "execution_count": 20,
   "metadata": {},
   "outputs": [
    {
     "name": "stdout",
     "output_type": "stream",
     "text": [
      "Dictionary size before the removing: 6714\n",
      "Corpus size before the removing: 428249\n"
     ]
    }
   ],
   "source": [
    "print('Dictionary size before the removing:', dict_size_before)\n",
    "print('Corpus size before the removing:', corpus_size_before)"
   ]
  },
  {
   "cell_type": "code",
   "execution_count": 21,
   "metadata": {},
   "outputs": [],
   "source": [
    "most_popular = []\n",
    "for k, v in zip(dictionary_filtered.dfs.keys(), dictionary_filtered.dfs.values()):\n",
    "    if v > 4000:\n",
    "        most_popular.append(k)"
   ]
  },
  {
   "cell_type": "markdown",
   "metadata": {},
   "source": [
    "The most popular ingredients and their total counts in recipes:"
   ]
  },
  {
   "cell_type": "code",
   "execution_count": 22,
   "metadata": {},
   "outputs": [
    {
     "name": "stdout",
     "output_type": "stream",
     "text": [
      "garlic 7380\n",
      "pepper 4438\n",
      "salt 18048\n",
      "ground black pepper 4784\n",
      "vegetable oil 4385\n",
      "butter 4847\n",
      "water 7457\n",
      "onions 7972\n",
      "sugar 6434\n",
      "olive oil 7971\n",
      "garlic cloves 6236\n",
      "all-purpose flour 4632\n"
     ]
    }
   ],
   "source": [
    "for i in most_popular:\n",
    "    print(dictionary_filtered[i], dictionary_filtered.dfs[i])"
   ]
  },
  {
   "cell_type": "code",
   "execution_count": 23,
   "metadata": {},
   "outputs": [],
   "source": [
    "dictionary_filtered.filter_tokens(most_popular)"
   ]
  },
  {
   "cell_type": "code",
   "execution_count": 24,
   "metadata": {},
   "outputs": [],
   "source": [
    "dict_size_after = len(dictionary_filtered)\n",
    "corpus_filtered = [dictionary_filtered.doc2bow(text) for text in texts]\n",
    "corpus_size_after = sum([len(recipe) for recipe in corpus_filtered])"
   ]
  },
  {
   "cell_type": "code",
   "execution_count": 25,
   "metadata": {},
   "outputs": [
    {
     "name": "stdout",
     "output_type": "stream",
     "text": [
      "Dictionary size after the removing: 6702\n",
      "Corpus size after the removing: 343665\n"
     ]
    }
   ],
   "source": [
    "print('Dictionary size after the removing:', dict_size_after)\n",
    "print('Corpus size after the removing:', corpus_size_after)"
   ]
  },
  {
   "cell_type": "markdown",
   "metadata": {},
   "source": [
    "So, we have decreased the corpus size on nearly 20 percents by removing 12 the most common ingredients."
   ]
  },
  {
   "cell_type": "markdown",
   "metadata": {},
   "source": [
    "### Coherence comparison"
   ]
  },
  {
   "cell_type": "markdown",
   "metadata": {},
   "source": [
    "Topic Coherence - pointwise mutual information of top words of the topic. This measure shows, how often words that appear together in texts, appear in the tops of the same topics. We will calculate the mean of topic coherences of both models."
   ]
  },
  {
   "cell_type": "code",
   "execution_count": 27,
   "metadata": {},
   "outputs": [
    {
     "name": "stdout",
     "output_type": "stream",
     "text": [
      "Wall time: 56.9 s\n"
     ]
    }
   ],
   "source": [
    "%time second_lda_model = models.ldamodel.LdaModel(corpus_filtered, id2word=dictionary_filtered, num_topics=11, passes=5, alpha=0.035)"
   ]
  },
  {
   "cell_type": "code",
   "execution_count": 53,
   "metadata": {},
   "outputs": [],
   "source": [
    "#second_lda_model.save('prepared lda models/second_lda_model_xkcd')"
   ]
  },
  {
   "cell_type": "code",
   "execution_count": null,
   "metadata": {},
   "outputs": [],
   "source": [
    "#second_lda_model = models.ldamodel.LdaModel.load('prepared lda models/second_lda_model_xkcd')"
   ]
  },
  {
   "cell_type": "code",
   "execution_count": 28,
   "metadata": {},
   "outputs": [
    {
     "name": "stdout",
     "output_type": "stream",
     "text": [
      "0: ['ground cumin', 'ground cinnamon', 'cooking spray', 'paprika', 'ground red pepper', 'chopped cilantro fresh', 'ground coriander', 'chopped onion', 'cider vinegar', 'fresh lemon juice']\n",
      "1: ['grated parmesan cheese', 'fresh basil', 'dried oregano', 'tomatoes', 'fresh parsley', 'purple onion', 'red bell pepper', 'cooking spray', 'mozzarella cheese', 'extra-virgin olive oil']\n",
      "2: ['milk', 'eggs', 'flour', 'parmesan cheese', 'unsalted butter', 'large eggs', 'bread crumbs', 'cold water', 'potatoes', 'bacon']\n",
      "3: ['sesame seeds', 'oil', 'soy sauce', 'spring onions', 'carrots', 'light soy sauce', 'eggs', 'cabbage', 'dark soy sauce', 'vinegar']\n",
      "4: ['cumin seed', 'ground turmeric', 'garam masala', 'tomatoes', 'tumeric', 'ginger', 'ground cumin', 'green chilies', 'chili powder', 'clove']\n",
      "5: ['vanilla extract', 'white sugar', 'eggs', 'milk', 'unsalted butter', 'large eggs', 'ground cinnamon', 'baking powder', 'warm water', 'granulated sugar']\n",
      "6: ['large eggs', 'baking powder', 'unsalted butter', 'buttermilk', 'baking soda', 'light brown sugar', 'yellow corn meal', 'eggs', 'unsweetened cocoa powder', 'whole milk']\n",
      "7: ['soy sauce', 'sesame oil', 'green onions', 'scallions', 'corn starch', 'rice vinegar', 'fish sauce', 'fresh ginger', 'ginger', 'carrots']\n",
      "8: ['extra-virgin olive oil', 'dry white wine', 'fresh lemon juice', 'flat leaf parsley', 'shallots', 'kosher salt', 'unsalted butter', 'freshly ground pepper', 'large garlic cloves', 'fresh parsley']\n",
      "9: ['jalapeno chilies', 'chopped cilantro fresh', 'avocado', 'lime', 'fresh lime juice', 'purple onion', 'ground cumin', 'lime juice', 'corn tortillas', 'cilantro']\n",
      "10: ['garlic powder', 'green bell pepper', 'sour cream', 'cayenne pepper', 'chili powder', 'chicken broth', 'diced tomatoes', 'green onions', 'black pepper', 'shredded cheddar cheese']\n",
      "\n"
     ]
    }
   ],
   "source": [
    "topics = second_lda_model.show_topics(num_topics=11, num_words=10, formatted=False)\n",
    "topics_words = [(tp[0], [wd[0] for wd in tp[1]]) for tp in topics]\n",
    "\n",
    "for topic, words in topics_words:\n",
    "    print(str(topic) + \": \" + str(words))\n",
    "print()"
   ]
  },
  {
   "cell_type": "code",
   "execution_count": 29,
   "metadata": {},
   "outputs": [
    {
     "name": "stdout",
     "output_type": "stream",
     "text": [
      "-4.328859854105686\n",
      "-3.6382707934378358\n"
     ]
    }
   ],
   "source": [
    "first_coherence = np.mean([topic[1] for topic in first_lda_model.top_topics(corpus)])\n",
    "second_coherence = np.mean([topic[1] for topic in second_lda_model.top_topics(corpus_filtered)])\n",
    "print(first_coherence)\n",
    "print(second_coherence)"
   ]
  },
  {
   "cell_type": "markdown",
   "metadata": {},
   "source": [
    "It is believed that the coherence correlates well with human assessments of interpretability of topics. Therefore, on large text collections, coherence usually increases if the background vocabulary is removed."
   ]
  },
  {
   "cell_type": "markdown",
   "metadata": {},
   "source": [
    "### Exploring effects of the alpha hyperparameter"
   ]
  },
  {
   "cell_type": "markdown",
   "metadata": {},
   "source": [
    "So far we have only looked at the topic-word matrix, now let's look at the document-topic matrix."
   ]
  },
  {
   "cell_type": "code",
   "execution_count": 30,
   "metadata": {},
   "outputs": [
    {
     "data": {
      "text/plain": [
       "[(2, 0.6337289), (6, 0.13188563), (10, 0.20099252)]"
      ]
     },
     "execution_count": 30,
     "metadata": {},
     "output_type": "execute_result"
    }
   ],
   "source": [
    "second_lda_model.get_document_topics(corpus_filtered[1])"
   ]
  },
  {
   "cell_type": "markdown",
   "metadata": {},
   "source": [
    "That document is described mainly by three topics.\n",
    "\n",
    "__Alpha__ parameter of the second_lda_model:"
   ]
  },
  {
   "cell_type": "code",
   "execution_count": 31,
   "metadata": {},
   "outputs": [
    {
     "data": {
      "text/plain": [
       "array([0.035, 0.035, 0.035, 0.035, 0.035, 0.035, 0.035, 0.035, 0.035,\n",
       "       0.035, 0.035], dtype=float32)"
      ]
     },
     "execution_count": 31,
     "metadata": {},
     "output_type": "execute_result"
    }
   ],
   "source": [
    "second_lda_model.alpha"
   ]
  },
  {
   "cell_type": "markdown",
   "metadata": {},
   "source": [
    "Let's try to change the __alpha__ hyperparameter, which defines the Dirichlet priori distribution for the distribution of topics in documents."
   ]
  },
  {
   "cell_type": "code",
   "execution_count": 34,
   "metadata": {},
   "outputs": [
    {
     "name": "stdout",
     "output_type": "stream",
     "text": [
      "Wall time: 40.8 s\n"
     ]
    }
   ],
   "source": [
    "%time third_lda_model = models.ldamodel.LdaModel(corpus_filtered, id2word=dictionary_filtered, num_topics=11, passes=5, alpha=1)"
   ]
  },
  {
   "cell_type": "code",
   "execution_count": 54,
   "metadata": {},
   "outputs": [],
   "source": [
    "#third_lda_model.save('prepared lda models/third_lda_model_xkcd')"
   ]
  },
  {
   "cell_type": "code",
   "execution_count": 36,
   "metadata": {},
   "outputs": [],
   "source": [
    "#third_lda_model = models.ldamodel.LdaModel.load('prepared lda models/third_lda_model_xkcd')"
   ]
  },
  {
   "cell_type": "code",
   "execution_count": 37,
   "metadata": {},
   "outputs": [
    {
     "data": {
      "text/plain": [
       "[(0, 0.120934434),\n",
       " (1, 0.055555563),\n",
       " (2, 0.055555563),\n",
       " (3, 0.055555563),\n",
       " (4, 0.055563524),\n",
       " (5, 0.11111109),\n",
       " (6, 0.055555657),\n",
       " (7, 0.055555563),\n",
       " (8, 0.111111015),\n",
       " (9, 0.110352576),\n",
       " (10, 0.21314947)]"
      ]
     },
     "execution_count": 37,
     "metadata": {},
     "output_type": "execute_result"
    }
   ],
   "source": [
    "third_lda_model.get_document_topics(corpus_filtered[0])"
   ]
  },
  {
   "cell_type": "markdown",
   "metadata": {},
   "source": [
    "Can see, that the distribution over a variety of topics is almost uniform.\n",
    "\n",
    "To make sure that in the second model, the documents are described by much more sparse distributions than in the third, we will calculate the total number of elements that exceed 0.01, in the matrices of the subject-documents of both models."
   ]
  },
  {
   "cell_type": "code",
   "execution_count": 38,
   "metadata": {},
   "outputs": [],
   "source": [
    "count_for_model_2, count_for_model_3 = 0, 0\n",
    "for i in range(len(corpus_filtered)):\n",
    "    doc_topics_model_2 = second_lda_model.get_document_topics(corpus_filtered[i], minimum_probability=0.01)\n",
    "    count_for_model_2 += len(doc_topics_model_2)\n",
    "    doc_topics_model_3 = third_lda_model.get_document_topics(corpus_filtered[i], minimum_probability=0.01)\n",
    "    count_for_model_3 += len(doc_topics_model_3)"
   ]
  },
  {
   "cell_type": "code",
   "execution_count": 39,
   "metadata": {},
   "outputs": [
    {
     "name": "stdout",
     "output_type": "stream",
     "text": [
      "The total number of elements that exceed 0.01 for model 2: 139026\n",
      "The total number of elements that exceed 0.01 for model 3: 437514\n"
     ]
    }
   ],
   "source": [
    "print('The total number of elements that exceed 0.01 for model 2:', count_for_model_2)\n",
    "print('The total number of elements that exceed 0.01 for model 3:', count_for_model_3)"
   ]
  },
  {
   "cell_type": "markdown",
   "metadata": {},
   "source": [
    "Thus, the __alpha__ hyperparameter affects the sparsity of topic distributions in documents. Similarly, the __eta__ hyperparameter affects the sparsity of word distributions in topics."
   ]
  },
  {
   "cell_type": "markdown",
   "metadata": {},
   "source": [
    "### LDA as a way to reduce the dimension\n",
    "Sometimes, distributions over topics that have found using LDA, add to the matrix as additional, semantic features, and this can improve the quality of problem solving. For simplicity, let's just teach the recipe classifier on features obtained from the LDA, and measure the accuracy."
   ]
  },
  {
   "cell_type": "code",
   "execution_count": 40,
   "metadata": {},
   "outputs": [],
   "source": [
    "from sklearn.ensemble import RandomForestClassifier\n",
    "from sklearn.model_selection import cross_val_score"
   ]
  },
  {
   "cell_type": "code",
   "execution_count": 41,
   "metadata": {},
   "outputs": [],
   "source": [
    "X, y = [], []\n",
    "for i in range(len(corpus_filtered)):\n",
    "    X.append([prob for topic, prob in second_lda_model.get_document_topics(corpus_filtered[i], minimum_probability=0)])\n",
    "    y.append(recipes[i]['cuisine'])"
   ]
  },
  {
   "cell_type": "code",
   "execution_count": 42,
   "metadata": {},
   "outputs": [],
   "source": [
    "rf = RandomForestClassifier(n_estimators=100)"
   ]
  },
  {
   "cell_type": "code",
   "execution_count": 43,
   "metadata": {},
   "outputs": [
    {
     "data": {
      "text/plain": [
       "0.47025808247094236"
      ]
     },
     "execution_count": 43,
     "metadata": {},
     "output_type": "execute_result"
    }
   ],
   "source": [
    "np.mean(cross_val_score(estimator=rf, X=X, y=y, cv=3, n_jobs=-1))"
   ]
  },
  {
   "cell_type": "code",
   "execution_count": 44,
   "metadata": {},
   "outputs": [
    {
     "data": {
      "text/plain": [
       "array(['brazilian', 'british', 'cajun_creole', 'chinese', 'filipino',\n",
       "       'french', 'greek', 'indian', 'irish', 'italian', 'jamaican',\n",
       "       'japanese', 'korean', 'mexican', 'moroccan', 'russian',\n",
       "       'southern_us', 'spanish', 'thai', 'vietnamese'], dtype='<U12')"
      ]
     },
     "execution_count": 44,
     "metadata": {},
     "output_type": "execute_result"
    }
   ],
   "source": [
    "np.unique(y) #classes"
   ]
  },
  {
   "cell_type": "markdown",
   "metadata": {},
   "source": [
    "For such number of classes, this is a good accuracy. Thus, the LDA didn't collect all, but rather a large part of the information from the sample, in a low rank matrix."
   ]
  },
  {
   "cell_type": "markdown",
   "metadata": {},
   "source": [
    "### Interpretation of the constructed model\n",
    "We can look at the tops of the ingredients of each topic. Most topics are similar to recipes; some collect products of the same type, for example, fresh fruits or different types of cheese.\n",
    "\n",
    "Let us try to correlate our topics with the national cuisines. We construct the matrix $A$, in which the rows are topics, and the columns are different cuisines; its elements $a_ {tc}$ are sums of $p(t | d)$ for all documents $d$ that are assigned to the cuisine $c$. We normalize the matrix in order to avoid an imbalance between cuisines. The following function takes the model object, the corpus object and the source data as input, and returns the normalized $A$ matrix. It is convenient to visualize it using seaborn."
   ]
  },
  {
   "cell_type": "code",
   "execution_count": 45,
   "metadata": {},
   "outputs": [],
   "source": [
    "import pandas\n",
    "import seaborn\n",
    "from matplotlib import pyplot as plt\n",
    "%matplotlib inline"
   ]
  },
  {
   "cell_type": "code",
   "execution_count": 46,
   "metadata": {},
   "outputs": [],
   "source": [
    "def compute_topic_cuisine_matrix(model, corpus, recipes):\n",
    "    targets = list(set([recipe[\"cuisine\"] for recipe in recipes]))\n",
    "    \n",
    "    tc_matrix = pandas.DataFrame(data=np.zeros((model.num_topics, len(targets))), columns=targets)\n",
    "    for recipe, bow in zip(recipes, corpus):\n",
    "        recipe_topic = model.get_document_topics(bow)\n",
    "        for t, prob in recipe_topic:\n",
    "            tc_matrix[recipe[\"cuisine\"]][t] += prob\n",
    "    \n",
    "    target_sums = pandas.DataFrame(data=np.zeros((1, len(targets))), columns=targets)\n",
    "    for recipe in recipes:\n",
    "        target_sums[recipe[\"cuisine\"]] += 1\n",
    "        \n",
    "    return pandas.DataFrame(tc_matrix.values/target_sums.values, columns=tc_matrix.columns)"
   ]
  },
  {
   "cell_type": "code",
   "execution_count": 47,
   "metadata": {},
   "outputs": [],
   "source": [
    "def plot_matrix(tc_matrix):\n",
    "    plt.figure(figsize=(10, 10))\n",
    "    seaborn.heatmap(tc_matrix, square=True)"
   ]
  },
  {
   "cell_type": "code",
   "execution_count": 48,
   "metadata": {},
   "outputs": [
    {
     "data": {
      "image/png": "[encoded data removed]",
      "text/plain": [
       "<Figure size 720x720 with 2 Axes>"
      ]
     },
     "metadata": {},
     "output_type": "display_data"
    }
   ],
   "source": [
    "plot_matrix(compute_topic_cuisine_matrix(second_lda_model, corpus_filtered, recipes))"
   ]
  },
  {
   "cell_type": "markdown",
   "metadata": {},
   "source": [
    "The lighter the square in the matrix, the greater the connection of this topic with this cuisine. We see topics that are related to several cuisines. Such topics show sets of ingredients that are popular in the cuisines of several nations, that is, indicate the similarity of the cuisines. Some topics are distributed across cuisines evenly; they show sets of ingredients that are often used in cooking in all countries."
   ]
  },
  {
   "cell_type": "markdown",
   "metadata": {},
   "source": [
    "### LDA — probabilistic model\n",
    "The matrix decomposition used in LDA is interpreted as the following document generation process.\n",
    "\n",
    "For document $d$ with length $n_d$:\n",
    "1. From the Dirichlet prior distribution with the alpha parameter, generate the distribution over the set of topics: $\\theta_d \\sim Dirichlet(\\alpha)$\n",
    "1. For each word $w = 1, \\dots, n_d$:\n",
    "    1. Generate topic from discrete distribution $t \\sim \\theta_{d}$\n",
    "    1. Generate a word from a discrete distribution $w \\sim \\phi_{t}$.\n",
    "    \n",
    "More on [wiki](https://en.wikipedia.org/wiki/Latent_Dirichlet_allocation).\n",
    "\n",
    "In the context of our task, it turns out that using this generative process, you can create new recipes. You can transfer the model, the number of topic and the number of ingredients to the function and generate a recipe :)"
   ]
  },
  {
   "cell_type": "code",
   "execution_count": 49,
   "metadata": {},
   "outputs": [],
   "source": [
    "def generate_recipe(model, topic_number, num_ingredients):\n",
    "    topic = model.show_topic(topic_number, topn=model.num_terms)\n",
    "    topic_distr = [x[1] for x in topic]\n",
    "    topic_distr = np.array(topic_distr) / np.sum(topic_distr)   #for getting around the numpy issue\n",
    "                                                                #about a sum of small values    \n",
    "                                                                #e.g. 0.3 - 0.1 - 0.1 - 0.1 != 0\n",
    "    terms = [x[0] for x in topic]\n",
    "    for i in range(num_ingredients):\n",
    "        w = np.random.choice(terms, p=topic_distr)\n",
    "        print (w)"
   ]
  },
  {
   "cell_type": "code",
   "execution_count": 51,
   "metadata": {},
   "outputs": [
    {
     "name": "stdout",
     "output_type": "stream",
     "text": [
      "tahini\n",
      "shallots\n",
      "balsamic vinegar\n",
      "ground pork\n",
      "sushi rice\n",
      "broccoli florets\n",
      "corn starch\n",
      "red bell pepper\n",
      "soy sauce\n",
      "brown rice\n"
     ]
    }
   ],
   "source": [
    "generate_recipe(second_lda_model, 7, 10)"
   ]
  }
 ],
 "metadata": {
  "kernelspec": {
   "display_name": "Python 3",
   "language": "python",
   "name": "python3"
  },
  "language_info": {
   "codemirror_mode": {
    "name": "ipython",
    "version": 3
   },
   "file_extension": ".py",
   "mimetype": "text/x-python",
   "name": "python",
   "nbconvert_exporter": "python",
   "pygments_lexer": "ipython3",
   "version": "3.6.5"
  }
 },
 "nbformat": 4,
 "nbformat_minor": 1
}
