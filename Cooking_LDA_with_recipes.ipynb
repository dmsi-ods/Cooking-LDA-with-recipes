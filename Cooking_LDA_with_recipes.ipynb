{
 "cells": [
  {
   "cell_type": "markdown",
   "metadata": {},
   "source": [
    "# Cooking LDA with recipes"
   ]
  },
  {
   "cell_type": "markdown",
   "metadata": {},
   "source": [
    "In thematic modeling, it is assumed that the order of words in the document is not important for determining the subject (“bag of words”). We will work with a somewhat non-standard for thematic modeling collection, which can be called the “bag of ingredients”, because it consists of recipes from different cuisines. Thematic models are looking for words that are often found together in documents and make up topics. We will try to apply this idea to recipes and find culinary “themes”. This collection is good because it does not require preprocessing. In addition, it illustrates the principle of thematic models quite clearly.\n",
    "\n",
    "##### Warning:\n",
    "Building models takes some time. On Intel Core i7, 2400 MHz, it takes less than 10 minutes to build one model."
   ]
  },
  {
   "cell_type": "markdown",
   "metadata": {},
   "source": [
    "### Data loading "
   ]
  },
  {
   "cell_type": "code",
   "execution_count": 1,
   "metadata": {},
   "outputs": [],
   "source": [
    "import json"
   ]
  },
  {
   "cell_type": "code",
   "execution_count": 2,
   "metadata": {},
   "outputs": [],
   "source": [
    "with open(\"recipes.json\") as f:\n",
    "    recipes = json.load(f)"
   ]
  },
  {
   "cell_type": "code",
   "execution_count": 4,
   "metadata": {},
   "outputs": [
    {
     "data": {
      "text/plain": [
       "{'id': 10259,\n",
       " 'cuisine': 'greek',\n",
       " 'ingredients': ['romaine lettuce',\n",
       "  'black olives',\n",
       "  'grape tomatoes',\n",
       "  'garlic',\n",
       "  'pepper',\n",
       "  'purple onion',\n",
       "  'seasoning',\n",
       "  'garbanzo beans',\n",
       "  'feta cheese crumbles']}"
      ]
     },
     "execution_count": 4,
     "metadata": {},
     "output_type": "execute_result"
    }
   ],
   "source": [
    "recipes[0]"
   ]
  },
  {
   "cell_type": "code",
   "execution_count": 7,
   "metadata": {},
   "outputs": [
    {
     "data": {
      "text/plain": [
       "39774"
      ]
     },
     "execution_count": 7,
     "metadata": {},
     "output_type": "execute_result"
    }
   ],
   "source": [
    "len(recipes)"
   ]
  },
  {
   "cell_type": "markdown",
   "metadata": {},
   "source": [
    "### Corpus building"
   ]
  },
  {
   "cell_type": "code",
   "execution_count": 9,
   "metadata": {},
   "outputs": [],
   "source": [
    "import warnings\n",
    "warnings.simplefilter('ignore')\n",
    "\n",
    "from gensim import corpora, models\n",
    "import numpy as np"
   ]
  },
  {
   "cell_type": "code",
   "execution_count": 10,
   "metadata": {},
   "outputs": [],
   "source": [
    "texts = [recipe[\"ingredients\"] for recipe in recipes]\n",
    "dictionary = corpora.Dictionary(texts)   # compile a dictionary\n",
    "corpus = [dictionary.doc2bow(text) for text in texts]  # prepare the corpus of documents"
   ]
  },
  {
   "cell_type": "code",
   "execution_count": 11,
   "metadata": {},
   "outputs": [
    {
     "data": {
      "text/plain": [
       "[(0, 1),\n",
       " (3, 1),\n",
       " (5, 1),\n",
       " (59, 1),\n",
       " (80, 1),\n",
       " (81, 1),\n",
       " (82, 1),\n",
       " (83, 1),\n",
       " (84, 1),\n",
       " (85, 1),\n",
       " (86, 1),\n",
       " (87, 1),\n",
       " (88, 1)]"
      ]
     },
     "execution_count": 11,
     "metadata": {},
     "output_type": "execute_result"
    }
   ],
   "source": [
    "corpus[10]"
   ]
  },
  {
   "cell_type": "markdown",
   "metadata": {},
   "source": [
    "The element of corpus is a list of pairs (ingredient_id, count_in_the_recipe)\n",
    "У объекта dictionary есть полезная переменная dictionary.token2id, позволяющая находить соответствие между ингредиентами и их индексами."
   ]
  },
  {
   "cell_type": "markdown",
   "metadata": {},
   "source": [
    "### Model learning"
   ]
  },
  {
   "cell_type": "markdown",
   "metadata": {},
   "source": [
    "Let's try the LDA model with 40 topics."
   ]
  },
  {
   "cell_type": "code",
   "execution_count": 13,
   "metadata": {},
   "outputs": [
    {
     "name": "stdout",
     "output_type": "stream",
     "text": [
      "Wall time: 1min 10s\n"
     ]
    }
   ],
   "source": [
    "np.random.seed(76543)\n",
    "%time first_lda_model = models.ldamodel.LdaModel(corpus, id2word=dictionary, num_topics=40, passes=5)"
   ]
  },
  {
   "cell_type": "code",
   "execution_count": 14,
   "metadata": {},
   "outputs": [],
   "source": [
    "first_lda_model.save('first_lda_model_xkcd')"
   ]
  },
  {
   "cell_type": "code",
   "execution_count": 13,
   "metadata": {},
   "outputs": [],
   "source": [
    "first_lda_model = models.ldamodel.LdaModel.load('first_lda_model_xkcd')"
   ]
  },
  {
   "cell_type": "markdown",
   "metadata": {},
   "source": [
    "Quick look at top words of each topic."
   ]
  },
  {
   "cell_type": "code",
   "execution_count": 21,
   "metadata": {},
   "outputs": [],
   "source": [
    "x = first_lda_model.show_topics(num_topics=40, num_words=10, formatted=False)\n",
    "\n",
    "topics_words = [(tp[0], [wd[0] for wd in tp[1]]) for tp in x]\n",
    "\n",
    "for topic, words in topics_words:\n",
    "    print(str(topic) + \": \" + str(words))\n",
    "print()"
   ]
  },
  {
   "cell_type": "markdown",
   "metadata": {},
   "source": [
    "How many times can we see \"salt\", \"sugar\", \"water\", \"mushrooms\", \"chicken\", \"eggs\" among tops-10 of all 40 topics?"
   ]
  },
  {
   "cell_type": "code",
   "execution_count": 24,
   "metadata": {},
   "outputs": [],
   "source": [
    "counts = {'salt': 0, 'sugar': 0, 'water': 0, 'mushrooms': 0, 'chicken': 0, 'eggs': 0}\n",
    "for topic in topics_words:\n",
    "    for word in counts.keys():\n",
    "        if word in topic[1]:\n",
    "            counts[word] = counts[word] + 1"
   ]
  },
  {
   "cell_type": "code",
   "execution_count": 25,
   "metadata": {},
   "outputs": [
    {
     "data": {
      "text/plain": [
       "{'salt': 23, 'sugar': 9, 'water': 10, 'mushrooms': 0, 'chicken': 1, 'eggs': 2}"
      ]
     },
     "execution_count": 25,
     "metadata": {},
     "output_type": "execute_result"
    }
   ],
   "source": [
    "counts"
   ]
  },
  {
   "cell_type": "markdown",
   "metadata": {},
   "source": [
    "### Dictionary filtering\n",
    "In the tops, the first three ingredients are much more common than the last three. At the same time, the presence of chicken, eggs or mushrooms in the recipe gives more information about the dish than the presence of salt, sugar and water. Thus, even in recipes there are words that don't carry a semantic load, and therefore it isn't desirable to see them in topics. The easiest way to deal with such background elements is to filter the dictionary by frequency. Usually, the dictionary is filtered from two sides: very rare words are removed (in order to save memory) and very frequent words (in order to increase the interpretability of topics). We will remove only frequent words."
   ]
  },
  {
   "cell_type": "code",
   "execution_count": 27,
   "metadata": {},
   "outputs": [],
   "source": [
    "import copy\n",
    "dictionary_filtered = copy.deepcopy(dictionary)"
   ]
  },
  {
   "cell_type": "markdown",
   "metadata": {},
   "source": [
    "Let's remove ingredients that appear in our cuisine collection more than 4000 times and look at size changes of dictionary and corpus."
   ]
  },
  {
   "cell_type": "code",
   "execution_count": 28,
   "metadata": {},
   "outputs": [],
   "source": [
    "dict_size_before = len(dictionary_filtered)\n",
    "corpus_size_before = sum([len(recipe) for recipe in corpus])"
   ]
  },
  {
   "cell_type": "code",
   "execution_count": 29,
   "metadata": {},
   "outputs": [
    {
     "name": "stdout",
     "output_type": "stream",
     "text": [
      "Dictionary size before the removing: 6714\n",
      "Corpus size before the removing: 428249\n"
     ]
    }
   ],
   "source": [
    "print('Dictionary size before the removing:', dict_size_before)\n",
    "print('Corpus size before the removing:', corpus_size_before)"
   ]
  },
  {
   "cell_type": "code",
   "execution_count": 38,
   "metadata": {},
   "outputs": [],
   "source": [
    "most_popular = []\n",
    "for k, v in zip(dictionary_filtered.dfs.keys(), dictionary_filtered.dfs.values()):\n",
    "    if v > 4000:\n",
    "        most_popular.append(k)"
   ]
  },
  {
   "cell_type": "code",
   "execution_count": 39,
   "metadata": {},
   "outputs": [
    {
     "name": "stdout",
     "output_type": "stream",
     "text": [
      "garlic 7380\n",
      "pepper 4438\n",
      "salt 18048\n",
      "ground black pepper 4784\n",
      "vegetable oil 4385\n",
      "butter 4847\n",
      "water 7457\n",
      "onions 7972\n",
      "sugar 6434\n",
      "olive oil 7971\n",
      "garlic cloves 6236\n",
      "all-purpose flour 4632\n"
     ]
    }
   ],
   "source": [
    "for i in most_popular:\n",
    "    print(dictionary_filtered[i], dictionary_filtered.dfs[i])"
   ]
  },
  {
   "cell_type": "code",
   "execution_count": 40,
   "metadata": {},
   "outputs": [],
   "source": [
    "dictionary_filtered.filter_tokens(most_popular)"
   ]
  },
  {
   "cell_type": "code",
   "execution_count": 41,
   "metadata": {},
   "outputs": [],
   "source": [
    "dict_size_after = len(dictionary_filtered)\n",
    "corpus_filtered = [dictionary_filtered.doc2bow(text) for text in texts]\n",
    "corpus_size_after = sum([len(recipe) for recipe in corpus_filtered])"
   ]
  },
  {
   "cell_type": "code",
   "execution_count": 42,
   "metadata": {},
   "outputs": [
    {
     "name": "stdout",
     "output_type": "stream",
     "text": [
      "Dictionary size after the removing: 6702\n",
      "Corpus size after the removing: 343665\n"
     ]
    }
   ],
   "source": [
    "print('Dictionary size after the removing:', dict_size_after)\n",
    "print('Corpus size after the removing:', corpus_size_after)"
   ]
  },
  {
   "cell_type": "markdown",
   "metadata": {},
   "source": [
    "So, we have decreased the corpus size on nearly 20 percents by removing 12 common ingredients."
   ]
  },
  {
   "cell_type": "markdown",
   "metadata": {},
   "source": [
    "### Coherence comparison"
   ]
  },
  {
   "cell_type": "markdown",
   "metadata": {},
   "source": [
    "Topic Coherence - pointwise mutual information of top words of the topic. This measure shows, how often words that appear together in texts, appear in the tops of the same topics. We will calculate the mean of topic coherences of both models."
   ]
  },
  {
   "cell_type": "code",
   "execution_count": 43,
   "metadata": {},
   "outputs": [],
   "source": [
    "np.random.seed(76543)\n",
    "%time second_lda_model = models.ldamodel.LdaModel(corpus_filtered, id2word=dictionary_filtered, num_topics=40, passes=5)"
   ]
  },
  {
   "cell_type": "code",
   "execution_count": null,
   "metadata": {},
   "outputs": [],
   "source": [
    "second_lda_model.save('second_lda_model_xkcd')"
   ]
  },
  {
   "cell_type": "code",
   "execution_count": null,
   "metadata": {},
   "outputs": [],
   "source": [
    "second_lda_model = models.ldamodel.LdaModel.load('second_lda_model_xkcd')"
   ]
  },
  {
   "cell_type": "code",
   "execution_count": 44,
   "metadata": {},
   "outputs": [
    {
     "name": "stdout",
     "output_type": "stream",
     "text": [
      "-5.804997312362428\n",
      "-8.307382309049668\n"
     ]
    }
   ],
   "source": [
    "first_coherence = np.mean([topic[1] for topic in first_lda_model.top_topics(corpus)])\n",
    "second_coherence = np.mean([topic[1] for topic in second_lda_model.top_topics(corpus_filtered)])\n",
    "print(first_coherence)\n",
    "print(second_coherence)"
   ]
  },
  {
   "cell_type": "markdown",
   "metadata": {},
   "source": [
    "It is believed that the coherence correlates well with human assessments of interpretability of topics. Therefore, on large text collections, coherence usually increases if the background vocabulary is removed. However, this hasn't happened in our case."
   ]
  },
  {
   "cell_type": "markdown",
   "metadata": {},
   "source": [
    "### Exploring effects of the alpha hyperparameter"
   ]
  },
  {
   "cell_type": "markdown",
   "metadata": {},
   "source": [
    "So far we have only looked at the topic-word matrix, now let's look at the document-topic matrix."
   ]
  },
  {
   "cell_type": "code",
   "execution_count": 46,
   "metadata": {},
   "outputs": [
    {
     "data": {
      "text/plain": [
       "[(25, 0.128125), (30, 0.13393019), (31, 0.6223198)]"
      ]
     },
     "execution_count": 46,
     "metadata": {},
     "output_type": "execute_result"
    }
   ],
   "source": [
    "second_lda_model.get_document_topics(corpus_filtered[0])"
   ]
  },
  {
   "cell_type": "markdown",
   "metadata": {},
   "source": [
    "So, can see that document is described mainly by three topics.\n",
    "\n",
    "__Alpha__ parameter of the second_lda_model:"
   ]
  },
  {
   "cell_type": "code",
   "execution_count": 47,
   "metadata": {},
   "outputs": [
    {
     "data": {
      "text/plain": [
       "array([0.025, 0.025, 0.025, 0.025, 0.025, 0.025, 0.025, 0.025, 0.025,\n",
       "       0.025, 0.025, 0.025, 0.025, 0.025, 0.025, 0.025, 0.025, 0.025,\n",
       "       0.025, 0.025, 0.025, 0.025, 0.025, 0.025, 0.025, 0.025, 0.025,\n",
       "       0.025, 0.025, 0.025, 0.025, 0.025, 0.025, 0.025, 0.025, 0.025,\n",
       "       0.025, 0.025, 0.025, 0.025], dtype=float32)"
      ]
     },
     "execution_count": 47,
     "metadata": {},
     "output_type": "execute_result"
    }
   ],
   "source": [
    "second_lda_model.alpha"
   ]
  },
  {
   "cell_type": "markdown",
   "metadata": {},
   "source": [
    "Let's try to change the __alpha__ hyperparameter, which defines the Dirichlet priori distribution for the distribution of topics in documents."
   ]
  },
  {
   "cell_type": "code",
   "execution_count": 48,
   "metadata": {},
   "outputs": [],
   "source": [
    "np.random.seed(76543)\n",
    "%time third_lda_model = models.ldamodel.LdaModel(corpus_filtered, id2word=dictionary_filtered, passes=5, alpha=1)"
   ]
  },
  {
   "cell_type": "code",
   "execution_count": null,
   "metadata": {},
   "outputs": [],
   "source": [
    "third_lda_model.save('third_lda_model_xkcd')"
   ]
  },
  {
   "cell_type": "code",
   "execution_count": null,
   "metadata": {},
   "outputs": [],
   "source": [
    "third_lda_model = models.ldamodel.LdaModel.load('third_lda_model_xkcd')"
   ]
  },
  {
   "cell_type": "code",
   "execution_count": 49,
   "metadata": {},
   "outputs": [
    {
     "data": {
      "text/plain": [
       "[(30, 0.019214524),\n",
       " (31, 0.019030767),\n",
       " (34, 0.0189094),\n",
       " (61, 0.018693281),\n",
       " (72, 0.018829131),\n",
       " (94, 0.018750459)]"
      ]
     },
     "execution_count": 49,
     "metadata": {},
     "output_type": "execute_result"
    }
   ],
   "source": [
    "third_lda_model.get_document_topics(corpus_filtered[0])"
   ]
  },
  {
   "cell_type": "markdown",
   "metadata": {},
   "source": [
    "Can see, that the distribution over a variety of topics is almost uniform.\n",
    "\n",
    "To make sure that in the second model, the documents are described by much more sparse distributions than in the third, we will calculate the total number of elements that exceed 0.01, in the matrices of the subject-documents of both models."
   ]
  },
  {
   "cell_type": "code",
   "execution_count": 51,
   "metadata": {},
   "outputs": [],
   "source": [
    "count_for_model_2, count_for_model_3 = 0, 0\n",
    "for i in range(len(corpus_filtered)):\n",
    "    doc_topics_model_2 = second_lda_model.get_document_topics(corpus_filtered[i], minimum_probability=0.01)\n",
    "    count_for_model_2 += len(doc_topics_model_2)\n",
    "    doc_topics_model_3 = third_lda_model.get_document_topics(corpus_filtered[i], minimum_probability=0.01)\n",
    "    count_for_model_3 += len(doc_topics_model_3)"
   ]
  },
  {
   "cell_type": "code",
   "execution_count": 52,
   "metadata": {},
   "outputs": [
    {
     "name": "stdout",
     "output_type": "stream",
     "text": [
      "The total number of elements that exceed 0.01 for model 2: 198358\n",
      "The total number of elements that exceed 0.01 for model 3: 453952\n"
     ]
    }
   ],
   "source": [
    "print('The total number of elements that exceed 0.01 for model 2:', count_for_model_2)\n",
    "print('The total number of elements that exceed 0.01 for model 3:', count_for_model_3)"
   ]
  },
  {
   "cell_type": "markdown",
   "metadata": {},
   "source": [
    "Thus, the __alpha__ hyperparameter affects the sparsity of topic distributions in documents. Similarly, the __eta__ hyperparameter affects the sparsity of word distributions in topics."
   ]
  },
  {
   "cell_type": "markdown",
   "metadata": {},
   "source": [
    "### LDA as a way to reduce the dimension\n",
    "Sometimes, distributions over topics that have found using LDA, add to the matrix as additional, semantic features, and this can improve the quality of problem solving. For simplicity, let's just teach the recipe classifier on features obtained from the LDA, and measure the accuracy.\n",
    "\n",
    "\n",
    "__Задание 5.__ Используйте модель, построенную по сокращенной выборке с alpha по умолчанию (вторую модель). Составьте матрицу $\\Theta = p(t|d)$ вероятностей тем в документах; вы можете использовать тот же метод get_document_topics, а также вектор правильных ответов y (в том же порядке, в котором рецепты идут в переменной recipes). Создайте объект RandomForestClassifier со 100 деревьями, с помощью функции cross_val_score вычислите среднюю accuracy по трем фолдам (перемешивать данные не нужно) и передайте в функцию save_answers5."
   ]
  },
  {
   "cell_type": "code",
   "execution_count": 53,
   "metadata": {},
   "outputs": [],
   "source": [
    "from sklearn.ensemble import RandomForestClassifier\n",
    "from sklearn.model_selection import cross_val_score"
   ]
  },
  {
   "cell_type": "code",
   "execution_count": 54,
   "metadata": {},
   "outputs": [],
   "source": [
    "X, y = [], []\n",
    "for i in range(len(corpus_filtered)):\n",
    "    X.append([prob for topic, prob in second_lda_model.get_document_topics(corpus_filtered[i], minimum_probability=0)])\n",
    "    y.append(recipes[i]['cuisine'])"
   ]
  },
  {
   "cell_type": "code",
   "execution_count": 55,
   "metadata": {},
   "outputs": [],
   "source": [
    "rf = RandomForestClassifier(n_estimators=100)"
   ]
  },
  {
   "cell_type": "code",
   "execution_count": 56,
   "metadata": {},
   "outputs": [
    {
     "data": {
      "text/plain": [
       "0.5519439194273451"
      ]
     },
     "execution_count": 56,
     "metadata": {},
     "output_type": "execute_result"
    }
   ],
   "source": [
    "np.mean(cross_val_score(estimator=rf, X=X, y=y, cv=3, n_jobs=-1))"
   ]
  },
  {
   "cell_type": "code",
   "execution_count": 58,
   "metadata": {},
   "outputs": [
    {
     "data": {
      "text/plain": [
       "array(['brazilian', 'british', 'cajun_creole', 'chinese', 'filipino',\n",
       "       'french', 'greek', 'indian', 'irish', 'italian', 'jamaican',\n",
       "       'japanese', 'korean', 'mexican', 'moroccan', 'russian',\n",
       "       'southern_us', 'spanish', 'thai', 'vietnamese'], dtype='<U12')"
      ]
     },
     "execution_count": 58,
     "metadata": {},
     "output_type": "execute_result"
    }
   ],
   "source": [
    "np.unique(y)"
   ]
  },
  {
   "cell_type": "markdown",
   "metadata": {},
   "source": [
    "For such number of classes, this is a good accuracy. Thus, the LDA didn't collect all, but rather a large part of the information from the sample, in a low rank matrix."
   ]
  },
  {
   "cell_type": "markdown",
   "metadata": {},
   "source": [
    "### LDA — probabilistic model\n",
    "The matrix decomposition used in LDA is interpreted as the following document generation process.\n",
    "\n",
    "For document $d$ with length $n_d$:\n",
    "1. From the Dirichlet prior distribution with the alpha parameter, generate the distribution over the set of topics: $\\theta_d \\sim Dirichlet(\\alpha)$\n",
    "1. For each word $w = 1, \\dots, n_d$:\n",
    "    1. Generate topic from discrete distribution $t \\sim \\theta_{d}$\n",
    "    1. Generate a word from a discrete distribution $w \\sim \\phi_{t}$.\n",
    "    \n",
    "More on [wiki](https://en.wikipedia.org/wiki/Latent_Dirichlet_allocation).\n",
    "\n",
    "In the context of our task, it turns out that using this generative process, you can create new recipes. You can transfer the model and the number of ingredients to the function and generate a recipe :)"
   ]
  },
  {
   "cell_type": "code",
   "execution_count": 59,
   "metadata": {},
   "outputs": [],
   "source": [
    "def generate_recipe(model, num_ingredients):\n",
    "    theta = np.random.dirichlet(model.alpha)\n",
    "    for i in range(num_ingredients):\n",
    "        t = np.random.choice(np.arange(model.num_topics), p=theta)\n",
    "        \n",
    "        topic = model.show_topic(t, topn=model.num_terms)\n",
    "        topic_distr = [x[1] for x in topic]\n",
    "        topic_distr = np.array(topic_distr) / np.sum(topic_distr)   #for getting around the numpy issue\n",
    "                                                                    #about a sum of small values    \n",
    "                                                                    #e.g. 0.3 - 0.1 - 0.1 - 0.1 != 0\n",
    "        terms = [x[0] for x in topic]\n",
    "        \n",
    "        w = np.random.choice(terms, p=topic_distr)\n",
    "        print (w)"
   ]
  },
  {
   "cell_type": "code",
   "execution_count": 60,
   "metadata": {},
   "outputs": [
    {
     "name": "stdout",
     "output_type": "stream",
     "text": [
      "dried shiitake mushrooms\n",
      "corn husks\n",
      "mild cheddar cheese\n",
      "shelled pistachios\n",
      "chicken\n",
      "dried shiitake mushrooms\n",
      "masa harina\n",
      "hard-boiled egg\n",
      "chicken bouillon granules\n",
      "lime rind\n"
     ]
    }
   ],
   "source": [
    "generate_recipe(second_lda_model, 10)"
   ]
  },
  {
   "cell_type": "markdown",
   "metadata": {},
   "source": [
    "### Interpretation of the constructed model\n",
    "We can look at the tops of the ingredients of each topic. Most topics are similar to recipes; some collect products of the same type, for example, fresh fruits or different types of cheese.\n",
    "\n",
    "Let us try to correlate our topics with the national cuisines. We construct the matrix $A$, in which the rows are topics, and the columns are different cuisines; its elements $a_ {tc}$ are sums of $p(t | d)$ for all documents $d$ that are assigned to the cuisine $c$. We normalize the matrix in order to avoid an imbalance between cuisines. The following function takes the model object, the corpus object and the source data as input, and returns the normalized $A$ matrix. It is convenient to visualize it using seaborn."
   ]
  },
  {
   "cell_type": "code",
   "execution_count": 48,
   "metadata": {},
   "outputs": [],
   "source": [
    "import pandas\n",
    "import seaborn\n",
    "from matplotlib import pyplot as plt\n",
    "%matplotlib inline"
   ]
  },
  {
   "cell_type": "code",
   "execution_count": 49,
   "metadata": {},
   "outputs": [],
   "source": [
    "def compute_topic_cuisine_matrix(model, corpus, recipes):\n",
    "    targets = list(set([recipe[\"cuisine\"] for recipe in recipes]))\n",
    "    \n",
    "    tc_matrix = pandas.DataFrame(data=np.zeros((model.num_topics, len(targets))), columns=targets)\n",
    "    for recipe, bow in zip(recipes, corpus):\n",
    "        recipe_topic = model.get_document_topics(bow)\n",
    "        for t, prob in recipe_topic:\n",
    "            tc_matrix[recipe[\"cuisine\"]][t] += prob\n",
    "    \n",
    "    target_sums = pandas.DataFrame(data=np.zeros((1, len(targets))), columns=targets)\n",
    "    for recipe in recipes:\n",
    "        target_sums[recipe[\"cuisine\"]] += 1\n",
    "        \n",
    "    return pandas.DataFrame(tc_matrix.values/target_sums.values, columns=tc_matrix.columns)"
   ]
  },
  {
   "cell_type": "code",
   "execution_count": 50,
   "metadata": {},
   "outputs": [],
   "source": [
    "def plot_matrix(tc_matrix):\n",
    "    plt.figure(figsize=(10, 10))\n",
    "    seaborn.heatmap(tc_matrix, square=True)"
   ]
  },
  {
   "cell_type": "code",
   "execution_count": 51,
   "metadata": {},
   "outputs": [
    {
     "data": {
      "image/png": "[encoded data removed]",
      "text/plain": [
       "<Figure size 720x720 with 2 Axes>"
      ]
     },
     "metadata": {},
     "output_type": "display_data"
    }
   ],
   "source": [
    "plot_matrix(compute_topic_cuisine_matrix(second_lda_model, corpus_filtered, recipes))"
   ]
  },
  {
   "cell_type": "markdown",
   "metadata": {},
   "source": [
    "The lighter the square in the matrix, the greater the connection of this topic with this cuisine. We see that we have topics that are related to several cuisines. Such topics show sets of ingredients that are popular in the cuisines of several nations, that is, indicate the similarity of the cuisines. Some topics are distributed across cuisines evenly; they show sets of ingredients that are often used in cooking in all countries."
   ]
  }
 ],
 "metadata": {
  "kernelspec": {
   "display_name": "Python 3",
   "language": "python",
   "name": "python3"
  },
  "language_info": {
   "codemirror_mode": {
    "name": "ipython",
    "version": 3
   },
   "file_extension": ".py",
   "mimetype": "text/x-python",
   "name": "python",
   "nbconvert_exporter": "python",
   "pygments_lexer": "ipython3",
   "version": "3.6.5"
  }
 },
 "nbformat": 4,
 "nbformat_minor": 1
}
